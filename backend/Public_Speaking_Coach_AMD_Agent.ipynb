{
  "cells": [
    {
      "cell_type": "markdown",
      "metadata": {},
      "source": [
        "# Public Speaking Coach - AMD Cloud Agent\n",
        "\n",
        "This notebook demonstrates how to use the Public Speaking Coach backend with AMD Cloud Agents for NLP analysis.\n"
      ]
    },
    {
      "cell_type": "code",
      "execution_count": null,
      "metadata": {},
      "outputs": [],
      "source": [
        "# Cell 1: Install dependencies (run once)\n",
        "# !pip install fastapi uvicorn faster-whisper firebase-admin aiofiles python-multipart pydantic\n"
      ]
    },
    {
      "cell_type": "code",
      "execution_count": null,
      "metadata": {},
      "outputs": [],
      "source": [
        "# Cell 2: Imports\n",
        "import os\n",
        "import sys\n",
        "from typing import Dict, Any\n",
        "\n",
        "# Add backend to path if needed\n",
        "# sys.path.append('/path/to/backend')\n",
        "\n",
        "from agent.main_agent import run_agent, get_agent\n",
        "from agent.tools.adk_nlp_tool import analyze_transcript_with_adk\n",
        "from utils.firebase_utils import initialize_firebase, save_to_firestore\n",
        "\n",
        "print(\"✅ Imports successful!\")\n"
      ]
    },
    {
      "cell_type": "code",
      "execution_count": null,
      "metadata": {},
      "outputs": [],
      "source": [
        "# Cell 3: Initialize Firebase\n",
        "initialize_firebase()\n",
        "print(\"✅ Firebase initialized\")\n",
        "\n",
        "# Get AMD Agent\n",
        "agent = get_agent()\n",
        "print(f\"✅ AMD Agent ready! Tools: {list(agent.tools.keys())}\")\n"
      ]
    },
    {
      "cell_type": "code",
      "execution_count": null,
      "metadata": {},
      "outputs": [],
      "source": [
        "# Cell 4: Quick Analysis Example\n",
        "sample_transcript = \"\"\"Um, so I think that, like, you know, public speaking is really important. \n",
        "And, uh, basically, what we need to do is, like, practice more often.\"\"\"\n",
        "\n",
        "# Run AMD Agent analysis\n",
        "result = await run_agent(sample_transcript, tool_name=\"adk_nlp_analysis\")\n",
        "\n",
        "print(\"📊 Analysis Results:\")\n",
        "print(f\"Filler Count: {result['filler_count']}\")\n",
        "print(f\"Clarity Score: {result['clarity_score']}/10\")\n",
        "print(f\"\\nSuggestions:\")\n",
        "for suggestion in result['suggestions']:\n",
        "    print(f\"  • {suggestion}\")\n",
        "print(f\"\\nSummary: {result['summary']}\")\n"
      ]
    },
    {
      "cell_type": "code",
      "execution_count": null,
      "metadata": {},
      "outputs": [],
      "source": [
        "# Cell 5: Save to Firestore\n",
        "async def analyze_and_save(text: str, user_id: str = \"notebook_user\"):\n",
        "    \"\"\"Run analysis and save to Firestore.\"\"\"\n",
        "    result = await run_agent(text, tool_name=\"adk_nlp_analysis\")\n",
        "    firestore_id = save_to_firestore(text, result, user_id)\n",
        "    return {**result, \"firestore_id\": firestore_id}\n",
        "\n",
        "# Test it\n",
        "full_result = await analyze_and_save(sample_transcript)\n",
        "print(f\"✅ Saved to Firestore! ID: {full_result['firestore_id']}\")\n"
      ]
    }
  ],
  "metadata": {
    "language_info": {
      "name": "python"
    }
  },
  "nbformat": 4,
  "nbformat_minor": 2
}
